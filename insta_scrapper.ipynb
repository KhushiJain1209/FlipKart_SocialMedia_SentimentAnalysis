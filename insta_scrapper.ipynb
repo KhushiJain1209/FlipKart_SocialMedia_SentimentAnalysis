import instagram_explore as ie
import json
result = ie.tag('flipkart')
#print(result)
parsed_data = json.dumps(result.data, indent = 4,sort_keys = True)

print(parsed_data)
result = ie.tag_images('flipkart')

parsed_data1 = json.dumps(result, indent = 4,sort_keys = True)

# displaying the data
print(parsed_data)

import requests
response = requests.get("https://api.zenrows.com/v1/?apikey=0d479992fc6b3973f477386014068ad03d881eed&url=https%3A%2F%2Fwww.instagram.com%2Fexplore%2Ftags%2Fflipkart%2F&js_render=true&premium_proxy=true&autoparse=true")
print(response.text)
